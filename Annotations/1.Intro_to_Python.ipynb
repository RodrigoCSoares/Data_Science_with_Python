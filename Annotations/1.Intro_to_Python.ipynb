{
 "cells": [
  {
   "cell_type": "markdown",
   "metadata": {},
   "source": [
    "# Python Basics"
   ]
  },
  {
   "cell_type": "markdown",
   "metadata": {},
   "source": [
    "### Variables:  \n",
    "- Specific\n",
    "- Case-sensitive name\n",
    "- Call-up values through variable names   "
   ]
  },
  {
   "cell_type": "code",
   "execution_count": 1,
   "metadata": {},
   "outputs": [
    {
     "name": "stdout",
     "output_type": "stream",
     "text": [
      "Hello World!\n"
     ]
    }
   ],
   "source": [
    "message = \"Hello World!\"\n",
    "print(message)"
   ]
  },
  {
   "cell_type": "markdown",
   "metadata": {},
   "source": [
    "### Python Types:\n",
    "\n",
    "- Standard Data Types: Numbers, String, List, Tuple, Dictionary\n",
    "- Number type: int, long, float, complex"
   ]
  },
  {
   "cell_type": "code",
   "execution_count": 2,
   "metadata": {
    "scrolled": true
   },
   "outputs": [
    {
     "name": "stdout",
     "output_type": "stream",
     "text": [
      "<class 'str'>\n",
      "<class 'int'>\n",
      "<class 'list'>\n",
      "<class 'dict'>\n"
     ]
    }
   ],
   "source": [
    "string = \"Hello\"\n",
    "number = 1\n",
    "list = [1, 2, 3]\n",
    "dict = {\"My\":\"dictionary\"}\n",
    "\n",
    "print(type(string))\n",
    "print(type(number))\n",
    "print(type(list))\n",
    "print(type(dict))"
   ]
  },
  {
   "cell_type": "code",
   "execution_count": 4,
   "metadata": {},
   "outputs": [
    {
     "name": "stdout",
     "output_type": "stream",
     "text": [
      "<class 'float'>\n",
      "compound interestcompound interest\n",
      "I started with $100 and now have $194.87171000000012. Awesome!\n"
     ]
    }
   ],
   "source": [
    "# Basic operations with same and different types \n",
    "# Several variables to experiment with\n",
    "savings = 100\n",
    "factor = 1.1\n",
    "desc = \"compound interest\"\n",
    "\n",
    "# Assigning product of factor and savings to year1\n",
    "year1 = savings * factor\n",
    "\n",
    "print(type(year1))\n",
    "\n",
    "# Assigning sum of desc and desc to doubledesc\n",
    "doubledesc = desc + desc\n",
    "\n",
    "# Printing out doubledesc\n",
    "print(doubledesc)\n",
    "\n",
    "##Type conversion\n",
    "# Definition of savings and result\n",
    "savings = 100\n",
    "result = 100 * 1.10 ** 7\n",
    "\n",
    "print(\"I started with $\" + str(savings) + \" and now have $\" + str(result) + \". Awesome!\")\n",
    "\n",
    "# Definition of pi_string\n",
    "pi_string = \"3.1415926\"\n",
    "\n",
    "# Converting pi_string into float: pi_float\n",
    "pi_float = float(pi_string)"
   ]
  },
  {
   "cell_type": "markdown",
   "metadata": {},
   "source": [
    "# Python Lists"
   ]
  },
  {
   "cell_type": "markdown",
   "metadata": {},
   "source": [
    "- Name a collection of values\n",
    "- Contain any type\n",
    "- Contain different types"
   ]
  },
  {
   "cell_type": "markdown",
   "metadata": {},
   "source": [
    "If you want to select a specific value in a list you should put the index of the value inside a square brackets after the list. You can use negative numbers as index too, it will start counting at the end of the list. (Lists in python starts at the index 0)"
   ]
  },
  {
   "cell_type": "code",
   "execution_count": 4,
   "metadata": {},
   "outputs": [
    {
     "name": "stdout",
     "output_type": "stream",
     "text": [
      "1\n",
      "9\n"
     ]
    }
   ],
   "source": [
    "mylist = [1, 3, 5, 2, 3, 9]\n",
    "\n",
    "print(mylist[0])\n",
    "\n",
    "print(mylist[-1])"
   ]
  },
  {
   "cell_type": "code",
   "execution_count": 2,
   "metadata": {},
   "outputs": [
    {
     "name": "stdout",
     "output_type": "stream",
     "text": [
      "['hallway', 11.25, 'kitchen', 18.0, 'living room', 20.0, 'bedroom', 10.75, 'bathroom', 9.5]\n"
     ]
    }
   ],
   "source": [
    "# area variables (in square meters)\n",
    "hall = 11.25\n",
    "kit = 18.0\n",
    "liv = 20.0\n",
    "bed = 10.75\n",
    "bath = 9.50\n",
    "\n",
    "# Adapting list areas\n",
    "areas = [\"hallway\", hall,\"kitchen\", kit, \"living room\", \n",
    "         liv,\"bedroom\", bed, \"bathroom\", bath]\n",
    "\n",
    "# Printing areas\n",
    "print (areas)"
   ]
  },
  {
   "cell_type": "code",
   "execution_count": 3,
   "metadata": {},
   "outputs": [
    {
     "name": "stdout",
     "output_type": "stream",
     "text": [
      "[['hallway', 11.25], ['kitchen', 18.0], ['living room', 20.0], ['bedroom', 10.75], ['bathroom', 9.5]]\n",
      "<class 'list'>\n"
     ]
    }
   ],
   "source": [
    "# area variables (in square meters)\n",
    "hall = 11.25\n",
    "kit = 18.0\n",
    "liv = 20.0\n",
    "bed = 10.75\n",
    "bath = 9.50\n",
    "\n",
    "# house information as list of lists\n",
    "house = [[\"hallway\", hall],\n",
    "         [\"kitchen\", kit],\n",
    "         [\"living room\", liv],\n",
    "         [\"bedroom\", bed],\n",
    "         [\"bathroom\", bath]]\n",
    "         \n",
    "print(house)\n",
    "print(type(house))"
   ]
  },
  {
   "cell_type": "markdown",
   "metadata": {},
   "source": [
    "### List slicing\n",
    "You can select more than only one value in a list using slicing. The first number will be the first index of the selection and the second number will be the index of the selection's end (the value in the second number index will not be part of the selection).\n",
    "\n",
    "[ start(inclusive) : end(exclusive) ]"
   ]
  },
  {
   "cell_type": "code",
   "execution_count": 7,
   "metadata": {},
   "outputs": [
    {
     "name": "stdout",
     "output_type": "stream",
     "text": [
      "['hallway', 11.25, 'kitchen', 18.0, 'living room', 20.0]\n",
      "['bedroom', 10.75, 'bathroom', 9.5]\n",
      "['kitchen', 18.0, 'living room']\n"
     ]
    }
   ],
   "source": [
    "# Create the areas list\n",
    "areas = [\"hallway\", 11.25, \"kitchen\", 18.0, \"living room\", 20.0, \"bedroom\", 10.75, \"bathroom\", 9.50]\n",
    "\n",
    "# Use slicing to create downstairs\n",
    "downstairs = areas[:6]\n",
    "\n",
    "generic = areas[2:5]\n",
    "\n",
    "# Use slicing to create upstairs\n",
    "upstairs = areas[-4:]\n",
    "\n",
    "# Print out downstairs and upstairs\n",
    "print(downstairs)\n",
    "print(upstairs)\n",
    "print(generic)"
   ]
  },
  {
   "cell_type": "markdown",
   "metadata": {},
   "source": [
    "### Changing list elements\n",
    "An value in a list can be added, deleted and updated. Variables with list type will point to a specific address in the memory. The variable does not save the values, it only point to the list location in the memory and this may cause some overwriting troubles. If you want to copy a list you should use the list() function, you will understand it better with the examples below."
   ]
  },
  {
   "cell_type": "code",
   "execution_count": 11,
   "metadata": {},
   "outputs": [
    {
     "name": "stdout",
     "output_type": "stream",
     "text": [
      "['hallway', 11.25, 'kitchen', 18.0, 'chill zone', 20.0, 'bedroom', 10.75, 'bathroom', 10.5]\n"
     ]
    }
   ],
   "source": [
    "# Create the areas list\n",
    "areas = [\"hallway\", 11.25, \"kitchen\", 18.0, \"living room\", 20.0, \n",
    "         \"bedroom\", 10.75, \"bathroom\", 9.50]\n",
    "\n",
    "# Change the bathroom area\n",
    "areas[-1] = 10.50\n",
    "\n",
    "# Change \"living room\" to \"chill zone\"\n",
    "areas[4] = \"chill zone\"\n",
    "\n",
    "print(areas)"
   ]
  },
  {
   "cell_type": "code",
   "execution_count": 14,
   "metadata": {},
   "outputs": [
    {
     "name": "stdout",
     "output_type": "stream",
     "text": [
      "['hallway', 11.25, 'kitchen', 18.0, 'chill zone', 20.0, 'bedroom', 10.75, 'bathroom', 10.5, 'poolhouse', 24.5]\n",
      "\n",
      "\n",
      "['hallway', 11.25, 'kitchen', 18.0, 'chill zone', 20.0, 'bedroom', 10.75, 'bathroom', 10.5, 'poolhouse', 24.5, 'garage', 15.45]\n"
     ]
    }
   ],
   "source": [
    "# Create the areas list\n",
    "areas = [\"hallway\", 11.25, \"kitchen\", 18.0, \"chill zone\", 20.0,\n",
    "         \"bedroom\", 10.75, \"bathroom\", 10.50]\n",
    "\n",
    "# Add poolhouse data to areas, new list is areas_1\n",
    "areas_1 = areas + [\"poolhouse\", 24.5]\n",
    "\n",
    "# Add garage data to areas_1, new list is areas_2\n",
    "areas_2 = areas_1 + [\"garage\", 15.45]\n",
    "\n",
    "print(areas_1)\n",
    "print(\"\\n\")\n",
    "print(areas_2)"
   ]
  },
  {
   "cell_type": "code",
   "execution_count": 16,
   "metadata": {},
   "outputs": [
    {
     "name": "stdout",
     "output_type": "stream",
     "text": [
      "[11.25, 18.0, 20.0, 10.75, 9.5]\n"
     ]
    }
   ],
   "source": [
    "# Create list areas\n",
    "areas = [11.25, 18.0, 20.0, 10.75, 9.50]\n",
    "\n",
    "# Create areas_copy\n",
    "areas_copy = list(areas)\n",
    "\n",
    "# Change areas_copy\n",
    "areas_copy[0] = 5.0\n",
    "\n",
    "# Print areas, notice that the areas didn't change\n",
    "print(areas)"
   ]
  },
  {
   "cell_type": "markdown",
   "metadata": {},
   "source": [
    "# Functions and Packages"
   ]
  },
  {
   "cell_type": "markdown",
   "metadata": {},
   "source": [
    "### Functions\n",
    "\n",
    "Functions are a bunch of code that receive a input and (usually) display a output, also can be reused. Functions are useful to avoid repetitive code and repetitive work. We are already using a functions! The print() and type() function.\n",
    "\n",
    "There are a lot of useful functions at the standard python package, some examples of useful functions are max(), round(), type(), print() and so on. Furthermore, the internet has a lot of useful functions that you can use in your own code.\n",
    "\n",
    "Standard function call: function(parameters)"
   ]
  },
  {
   "cell_type": "code",
   "execution_count": 20,
   "metadata": {},
   "outputs": [
    {
     "name": "stdout",
     "output_type": "stream",
     "text": [
      "<class 'list'>\n",
      "4\n",
      "<class 'bool'>\n",
      "<class 'int'>\n"
     ]
    }
   ],
   "source": [
    "# Create variables var1 and var2\n",
    "var1 = [1, 2, 3, 4]\n",
    "var2 = True\n",
    "\n",
    "# Print out type of var1\n",
    "print(type(var1))\n",
    "\n",
    "# Print out length of var1\n",
    "print(len(var1))\n",
    "\n",
    "# Convert var2 to an integer: out2\n",
    "print(type(var2))\n",
    "out2 = int(var2)\n",
    "print(type(out2))"
   ]
  },
  {
   "cell_type": "code",
   "execution_count": 21,
   "metadata": {},
   "outputs": [
    {
     "name": "stdout",
     "output_type": "stream",
     "text": [
      "[20.0, 18.0, 11.25, 10.75, 9.5]\n"
     ]
    }
   ],
   "source": [
    "# Create lists first and second\n",
    "first = [11.25, 18.0, 20.0]\n",
    "second = [10.75, 9.50]\n",
    "\n",
    "# Paste together first and second: full\n",
    "full = first + second\n",
    "\n",
    "# Sort full in descending order: full_sorted\n",
    "full_sorted = sorted(full, reverse=True)\n",
    "\n",
    "# Print out full_sorted\n",
    "print(full_sorted)"
   ]
  },
  {
   "cell_type": "markdown",
   "metadata": {},
   "source": [
    "### Methods\n",
    "\n",
    "Methods are functions that belong to objects (object is the name of any type of saved data using variables in your code), the methods are directly connected with the type of the object. Each type has its own methods.\n",
    "\n",
    "You can call methods usign a dot and the name of the method after the variable name: variable.method().\n",
    "\n",
    "#### Functions VS Methods\n",
    "\n",
    "Function: type(fam), it has a input and a output.\n",
    "\n",
    "Method: list.index(someValue), it call functions *on* objects and can change the object's data.\n"
   ]
  },
  {
   "cell_type": "code",
   "execution_count": 23,
   "metadata": {},
   "outputs": [
    {
     "name": "stdout",
     "output_type": "stream",
     "text": [
      "poolhouse\n",
      "POOLHOUSE\n",
      "3\n"
     ]
    }
   ],
   "source": [
    "# string to experiment with: room\n",
    "room = \"poolhouse\"\n",
    "\n",
    "# FUNCTION\n",
    "# Use upper() on room: room_up\n",
    "room_up = room.upper()\n",
    "\n",
    "# Print out room and room_up\n",
    "print(room)\n",
    "print(room_up)\n",
    "\n",
    "#METHOD\n",
    "# Print out the number of o's in room\n",
    "print(room.count(\"o\"))"
   ]
  },
  {
   "cell_type": "code",
   "execution_count": 25,
   "metadata": {},
   "outputs": [
    {
     "name": "stdout",
     "output_type": "stream",
     "text": [
      "[11.25, 18.0, 20.0, 10.75, 9.5, 24.5, 15.45]\n",
      "[15.45, 24.5, 9.5, 10.75, 20.0, 18.0, 11.25]\n"
     ]
    }
   ],
   "source": [
    "# Create list areas\n",
    "areas = [11.25, 18.0, 20.0, 10.75, 9.50]\n",
    "\n",
    "# Use append twice to add poolhouse and garage size\n",
    "areas.append(24.5)\n",
    "areas.append(15.45)\n",
    "\n",
    "# Print out areas\n",
    "print(areas)\n",
    "\n",
    "# Reverse the orders of the elements in areas\n",
    "areas.reverse()\n",
    "\n",
    "# Print out areas\n",
    "print(areas)"
   ]
  },
  {
   "cell_type": "markdown",
   "metadata": {},
   "source": [
    "### Packages\n",
    "\n",
    "Packages are the directory of Python Scripts (module) and each script has functions, methods, types. Packages are useful to select only the necessary tools (methods and functions) to your project, avoiding adding a lot of useless code in your project.\n",
    "\n",
    "There are thousands of packages over the world, some useful packages for Data Science are:\n",
    "    - Numpy\n",
    "    - Matplotlib\n",
    "    - Scikit-learn\n",
    "    \n",
    "If you want to use a new package you should download and install it on your machine. After that you should import the package on your code, using the *import* command.\n",
    "\n",
    "If you want to import only a single part of the package you should you the *from wantedPart import package*, you will understand it better with the examples below."
   ]
  },
  {
   "cell_type": "code",
   "execution_count": 28,
   "metadata": {},
   "outputs": [
    {
     "name": "stdout",
     "output_type": "stream",
     "text": [
      "Circumference: 2.701769682087222\n",
      "Area: 0.5808804816487527\n"
     ]
    }
   ],
   "source": [
    "# Definition of radius\n",
    "r = 0.43\n",
    "\n",
    "# Import the math package\n",
    "# Notice that if you import a whole package, you should define the\n",
    "# the function or method using the name of the package dot the name\n",
    "# of the function or method.\n",
    "import math\n",
    "\n",
    "# Calculate C\n",
    "# math.pi is a variable inside the math package\n",
    "C = 2 * math.pi * r\n",
    "\n",
    "# Calculate A\n",
    "A = math.pi * (r**2)\n",
    "\n",
    "# Build printout\n",
    "print(\"Circumference: \" + str(C))\n",
    "print(\"Area: \" + str(A))"
   ]
  },
  {
   "cell_type": "code",
   "execution_count": 27,
   "metadata": {},
   "outputs": [
    {
     "name": "stdout",
     "output_type": "stream",
     "text": [
      "40317.10572106901\n"
     ]
    }
   ],
   "source": [
    "# Definition of radius\n",
    "r = 192500\n",
    "\n",
    "# Import radians function of math package\n",
    "from math import radians\n",
    "\n",
    "# Travel distance of Moon over 12 degrees. Store in dist.\n",
    "phi = radians(12)\n",
    "dist = r * phi\n",
    "\n",
    "# Print out dist\n",
    "print(dist)"
   ]
  },
  {
   "cell_type": "markdown",
   "metadata": {},
   "source": [
    "# NumPy"
   ]
  },
  {
   "cell_type": "markdown",
   "metadata": {},
   "source": [
    "NumPy(Numeric Python) is a powerful package that can be used as a alternative to Python Lists. NumPy has a lot of useful functions, methods, variables and so on, it makes easier to work with linear algebra and vectorized data.\n",
    "\n",
    "NumPy arrays contains only one type and different types of arrays has different behaviors with some commands, functions and methods.\n",
    "\n",
    "Take a attention look at the examples below."
   ]
  },
  {
   "cell_type": "code",
   "execution_count": 54,
   "metadata": {},
   "outputs": [
    {
     "name": "stdout",
     "output_type": "stream",
     "text": [
      "[180 215 210 210 188 176 209 200]\n"
     ]
    }
   ],
   "source": [
    "# Create list baseball\n",
    "baseball = [180, 215, 210, 210, 188, 176, 209, 200]\n",
    "\n",
    "# Import the numpy package as np\n",
    "import numpy as np\n",
    "\n",
    "# Create a numpy array from baseball: np_baseball\n",
    "np_baseball = np.array(baseball)\n",
    "\n",
    "# Print out type of np_baseball\n",
    "print(type(np_baseball))"
   ]
  },
  {
   "cell_type": "code",
   "execution_count": 58,
   "metadata": {},
   "outputs": [
    {
     "name": "stdout",
     "output_type": "stream",
     "text": [
      "[185. 170. 175. ... 175. 176. 182.]\n",
      "[1.85 1.7  1.75 ... 1.75 1.76 1.82]\n"
     ]
    }
   ],
   "source": [
    "# Import a csv file with a huge data of soccer players\n",
    "# We'll talk about pandas package and csv files later\n",
    "import pandas as pd\n",
    "players = pd.read_csv(\"Data\\soccerPlayers.csv\")\n",
    "\n",
    "# Here starts the code with numpy\n",
    "import numpy as np\n",
    "\n",
    "# Select the height of the players and generate a numpy array\n",
    "np_height = np.array(players['height_cm'])\n",
    "\n",
    "# Print out np_height\n",
    "print(np_height)\n",
    "\n",
    "# Convert np_height to m: np_height_m\n",
    "np_height_m = np_height * 0.01\n",
    "\n",
    "# Print np_height_m\n",
    "print(np_height_m)"
   ]
  },
  {
   "cell_type": "code",
   "execution_count": 78,
   "metadata": {},
   "outputs": [
    {
     "name": "stdout",
     "output_type": "stream",
     "text": [
      "[23.37472608 24.91349481 22.20408163 ... 23.18367347 19.69266529\n",
      " 21.73650525]\n",
      "\n",
      "[False False False ... False  True False]\n",
      "\n",
      "[20.4032323  20.75638717 20.97117202 ... 19.11075278 20.9370756\n",
      " 19.69266529]\n",
      "\n",
      "94.0\n",
      "\n",
      "[1.73 1.87 1.81 1.95 1.92 1.89 1.84 1.82 1.94 1.86 1.69]\n"
     ]
    }
   ],
   "source": [
    "# Import a csv file with a huge data of soccer players\n",
    "# We'll talk about pandas package and csv files later\n",
    "import pandas as pd\n",
    "players = pd.read_csv(\"Data\\soccerPlayers.csv\")\n",
    "\n",
    "# Import numpy\n",
    "import numpy as np\n",
    "\n",
    "# Create array from height with correct units: np_height_m\n",
    "np_height_m = np.array(players['height_cm']) * 0.01\n",
    "\n",
    "# Create array from weight\n",
    "np_weight_kg = np.array(players['weight_kg'])\n",
    "\n",
    "# Calculate the BMI: bmi\n",
    "bmi = np_weight_kg / (np_height_m ** 2)\n",
    "\n",
    "# Print out bmi as String and use the \\n to break the line\n",
    "print(str(bmi) + '\\n')\n",
    "\n",
    "# Create the light array, it is boolean array\n",
    "# True = value < 21 and False = value > 21\n",
    "light = bmi < 21\n",
    "\n",
    "# Print out light\n",
    "print(str(light) + '\\n')\n",
    "\n",
    "# Print out BMIs of all baseball players whose BMI is below 21\n",
    "print(str(bmi[light]) + '\\n')\n",
    "\n",
    "# Print out the weight at index 50\n",
    "print(str(np_weight_kg[50]) + '\\n')\n",
    "\n",
    "# Print out sub-array of np_height: index 100 up to and including index 110\n",
    "print(str(np_height_m[100:111]))"
   ]
  },
  {
   "cell_type": "markdown",
   "metadata": {},
   "source": [
    "### 2D NumPy Arrays"
   ]
  },
  {
   "cell_type": "markdown",
   "metadata": {},
   "source": [
    "First of all, if you're not familiarized with 2D arrays, think that arrays with more than 1 dimension are just list-of-lists.\n",
    "\n",
    "Numpy arrays are N-dimensional, it means that a numpy array can have any size. The behavior of 2D arrays are similar to 1D arrays, however 2D has more possibilities of selection because its dimension. The examples below will show the possibilities."
   ]
  },
  {
   "cell_type": "code",
   "execution_count": 77,
   "metadata": {},
   "outputs": [
    {
     "name": "stdout",
     "output_type": "stream",
     "text": [
      "<class 'numpy.ndarray'>\n",
      "(4, 2)\n",
      "(17994, 185)\n"
     ]
    }
   ],
   "source": [
    "# Import a csv file with a huge data of soccer players\n",
    "# We'll talk about pandas package and csv files later\n",
    "import pandas as pd\n",
    "players = pd.read_csv(\"Data\\soccerPlayers.csv\")\n",
    "\n",
    "# Create baseball, a list of lists\n",
    "baseball = [[180, 78.4],\n",
    "            [215, 102.7],\n",
    "            [210, 98.5],\n",
    "            [188, 75.2]]\n",
    "\n",
    "# Import numpy\n",
    "import numpy as np\n",
    "\n",
    "# Create a 2D numpy array from baseball: np_baseball\n",
    "np_baseball = np.array(baseball)\n",
    "\n",
    "# Print out the type of np_baseball\n",
    "print(type(np_baseball))\n",
    "\n",
    "# Print out the shape (dimensions) of np_baseball\n",
    "print(np_baseball.shape)\n",
    "\n",
    "# Create a numpy array from players\n",
    "np_players = np.array(players)\n",
    "\n",
    "# Print out the shape of np_players\n",
    "print(np_players.shape)"
   ]
  },
  {
   "cell_type": "markdown",
   "metadata": {},
   "source": [
    "### NumPy: Basic Statistics"
   ]
  },
  {
   "cell_type": "markdown",
   "metadata": {},
   "source": [
    "There is no sense if you have a lot of data but you can't understand and analyze it. When you are handling with thousands or millions of data, you will need to process the data to have a better understanding and statistics could help you."
   ]
  },
  {
   "cell_type": "markdown",
   "metadata": {},
   "source": [
    "Suppose you want to analyse the soccer players data that we use at the other examples and you want to know the mean and the median height of all players. Let's see how to do it with NumPy."
   ]
  },
  {
   "cell_type": "code",
   "execution_count": 81,
   "metadata": {},
   "outputs": [
    {
     "name": "stdout",
     "output_type": "stream",
     "text": [
      "1.8127197954873848\n",
      "1.81\n"
     ]
    }
   ],
   "source": [
    "# Import a csv file with a huge data of soccer players\n",
    "# We'll talk about pandas package and csv files later\n",
    "import pandas as pd\n",
    "players = pd.read_csv(\"Data\\soccerPlayers.csv\")\n",
    "\n",
    "import numpy as np\n",
    "\n",
    "# np_height_m receive the height in meters\n",
    "np_height_m = np.array(players['height_cm']) * 0.01\n",
    "\n",
    "# Print out the mean of np_height\n",
    "print(np.mean(np_height_m))\n",
    "\n",
    "# Print out the median of np_height\n",
    "print(np.median(np_height_m))"
   ]
  },
  {
   "cell_type": "markdown",
   "metadata": {},
   "source": [
    "Now, you want to see how many players are bigger than the mean height."
   ]
  },
  {
   "cell_type": "code",
   "execution_count": 85,
   "metadata": {},
   "outputs": [
    {
     "name": "stdout",
     "output_type": "stream",
     "text": [
      "Players total: (17994,)\n",
      "Players bigger than the mean: (8856,)\n"
     ]
    }
   ],
   "source": [
    "# Import a csv file with a huge data of soccer players\n",
    "# We'll talk about pandas package and csv files later\n",
    "import pandas as pd\n",
    "players = pd.read_csv(\"Data\\soccerPlayers.csv\")\n",
    "\n",
    "import numpy as np\n",
    "\n",
    "# np_height_m receive the height in meters\n",
    "np_height_m = np.array(players['height_cm']) * 0.01\n",
    "\n",
    "# np_mean receive the mean height\n",
    "np_mean = np.mean(np_height_m)\n",
    "\n",
    "# Generate a numpy boolean array with the heights biggers than the mean\n",
    "np_bigger = np_height_m > np_mean\n",
    "\n",
    "# Print the total number of players\n",
    "print(\"Players total: \" + str(np_height_m.shape))\n",
    "\n",
    "# Print the number of players biggers than the mean\n",
    "print(\"Players bigger than the mean: \" +\n",
    "      str(np.shape(np_height_m[np_bigger])))"
   ]
  },
  {
   "cell_type": "markdown",
   "metadata": {},
   "source": [
    "Remember, this is a intro chapter so we will see more advanced statistics and analysis later on."
   ]
  }
 ],
 "metadata": {
  "kernelspec": {
   "display_name": "Python 3",
   "language": "python",
   "name": "python3"
  },
  "language_info": {
   "codemirror_mode": {
    "name": "ipython",
    "version": 3
   },
   "file_extension": ".py",
   "mimetype": "text/x-python",
   "name": "python",
   "nbconvert_exporter": "python",
   "pygments_lexer": "ipython3",
   "version": "3.6.5"
  }
 },
 "nbformat": 4,
 "nbformat_minor": 2
}
